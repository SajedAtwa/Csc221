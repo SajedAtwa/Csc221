{
  "nbformat": 4,
  "nbformat_minor": 0,
  "metadata": {
    "colab": {
      "provenance": [],
      "toc_visible": true
    },
    "kernelspec": {
      "name": "python3",
      "display_name": "Python 3"
    },
    "language_info": {
      "name": "python"
    }
  },
  "cells": [
    {
      "cell_type": "markdown",
      "source": [
        "# Homework 1 - Generate vehicle plate numbers\n",
        "\n",
        "Assume a New York State vehicle plate number consists of three uppercase, a dash, and four digits, for example: `OSK-2525`, `DVS-0006`, etc. Your task is to write a function that can randomly generate these strings in the above format.\n",
        "\n",
        "Please complete this notebook on Colab, save it as `.ipynb` and submit that file to Blackboard."
      ],
      "metadata": {
        "id": "QDdy3qZuv3cB"
      }
    },
    {
      "cell_type": "markdown",
      "source": [
        "## Task 1 (7 points)\n",
        "\n",
        "Please complete the `new_license_plate()` function below to return a random license plate string that follows the valid New York State format as specified. You can only change the body of the function using only basic types and features of Python that we have been looking at so far (e.g. basic types, functions, loops, etc.) You may rely on the `random` module of Python to generate random numbers.\n",
        "\n",
        "For your convenience, there's a small loop at the end that will generate 5 random license plates when you complete your function."
      ],
      "metadata": {
        "id": "gu-rYJ9VwmMD"
      }
    },
    {
      "cell_type": "code",
      "execution_count": 8,
      "metadata": {
        "colab": {
          "base_uri": "https://localhost:8080/"
        },
        "id": "kQbih4lkszmA",
        "outputId": "a3902f6f-3f69-40bd-ba1d-eae33e2d4f68"
      },
      "outputs": [
        {
          "output_type": "stream",
          "name": "stdout",
          "text": [
            "KRC-7096\n",
            "JQR-2091\n",
            "INK-7120\n",
            "FWS-6822\n",
            "BMH-5735\n"
          ]
        }
      ],
      "source": [
        "import random\n",
        "\n",
        "def new_license_plate():\n",
        "    ### YOU CAN ONLY EDIT THIS FUNCTION\n",
        "    random.seed()\n",
        "    alpha = 'ABCDEFGHIJKLMNOPQRSTUVWXYZ'\n",
        "    plate = ''.join(random.sample(alpha, k =3))\n",
        "    plate = plate + \"-\"\n",
        "    for j in range(4):\n",
        "      plate += str(random.randint(0,9))\n",
        "    return plate\n",
        "    pass\n",
        "\n",
        "for i in range(5):\n",
        "    print(new_license_plate())"
      ]
    },
    {
      "cell_type": "markdown",
      "source": [
        "## Task 2 (3 points)\n",
        "\n",
        "We would like to a parameter `after` to our `new_license_plate` function that tells us to generate only new license plate that is after this license (in lexical graphic order). For example, if `new_license_plate('FUO-3889')` must return strings larger than `FUO-3889`, thus, `OSK-2525` is a valid plate, but not `DVS-7906`."
      ],
      "metadata": {
        "id": "K8ZIpU4BxT1h"
      }
    },
    {
      "cell_type": "code",
      "source": [
        "import random\n",
        "\n",
        "def new_license_plate(after=None):\n",
        "    ### YOU CAN ONLY EDIT THIS FUNCTION\n",
        "    random.seed()\n",
        "    alpha = 'ABCDEFGHIJKLMNOPQRSTUVWXYZ'\n",
        "    if after == None:\n",
        "      plate = ''.join(random.sample(alpha, k =3))\n",
        "      plate = plate + \"-\"\n",
        "      for j in range(4):\n",
        "        plate += str(random.randint(0,9))\n",
        "    else:\n",
        "      plate = ''.join(random.sample(alpha, k =3))\n",
        "      plate = plate + \"-\"\n",
        "      for j in range(4):\n",
        "        plate += str(random.randint(0,9))\n",
        "      while plate < after:\n",
        "        plate = ''.join(random.sample(alpha, k =3))\n",
        "        plate = plate + \"-\"\n",
        "        for j in range(4):\n",
        "          plate += str(random.randint(0,9))\n",
        "    return plate\n",
        "    pass\n",
        "\n",
        "plate = new_license_plate()\n",
        "print('The current plate is', plate)\n",
        "for i in range(5):\n",
        "    plate = new_license_plate(plate)\n",
        "    print(plate)"
      ],
      "metadata": {
        "colab": {
          "base_uri": "https://localhost:8080/"
        },
        "id": "ZcvTbUD_tq4u",
        "outputId": "baa7bcb4-6b3b-4b2a-a2be-244c5fd32a03"
      },
      "execution_count": 7,
      "outputs": [
        {
          "output_type": "stream",
          "name": "stdout",
          "text": [
            "The current plate is GRX-0353\n",
            "RXN-2859\n",
            "UAS-4821\n",
            "XBA-9416\n",
            "XEZ-0642\n",
            "XJF-4826\n"
          ]
        }
      ]
    }
  ]
}