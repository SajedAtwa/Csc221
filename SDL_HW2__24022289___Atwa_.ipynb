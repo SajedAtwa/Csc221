{
  "nbformat": 4,
  "nbformat_minor": 0,
  "metadata": {
    "colab": {
      "provenance": []
    },
    "kernelspec": {
      "name": "python3",
      "display_name": "Python 3"
    },
    "language_info": {
      "name": "python"
    }
  },
  "cells": [
    {
      "cell_type": "markdown",
      "source": [
        "# Homework 2 - Object-Oriented Programming\n",
        "\n",
        "You are to complete this notebook on Colab, save it as `SDL_HW2_<EMPL_ID>_<Last_Name>.ipynb` and submit it to Blackboard.\n",
        "\n",
        "Please use the most appropriate data structures (i.e. the most efficient in terms of time and storage) if required for each task. Before working on your tasks, make sure to run the cell direclty below to download data files into your Colab environment."
      ],
      "metadata": {
        "id": "QDdy3qZuv3cB"
      }
    },
    {
      "cell_type": "markdown",
      "source": [
        "## Task 1 (5 points) - Fan\n",
        "Design a class named **`Fan`** to represent a fan. The class\n",
        "contains:\n",
        "\n",
        "* Three constants named `SLOW`, `MEDIUM`, and `FAST` with the values 1, 2,\n",
        "and 3 to denote the fan speed.\n",
        "\n",
        "* A private `int` data field named **`speed`** that specifies the speed of the fan.\n",
        "* A private `bool` data field named **`on`** that specifies whether the fan is\n",
        "on (the default is `False`).\n",
        "* A private `float` data field named **`radius`** that specifies the radius of the fan.\n",
        "* A private `str` data field named **`color`** that specifies the color of the\n",
        "fan.\n",
        "* The getter and setter methods for all four data fields.\n",
        "A constructor that creates a fan with the specified speed (default `SLOW`), radius (default `5`), color (default blue\n",
        "), and on (default `False`).\n",
        "* The `__str__()` method returning the properties of the fan in a format similar to the one below (i.e. what a direct `print()` should output):\n",
        "```\n",
        "====================\n",
        "Speed: 3\n",
        "Color: yellow\n",
        "Radius: 10\n",
        "Fan: on\n",
        "```\n",
        "Replace `3`, `yellow`, `10`, and `on` with the appropriate values of the fan (if the fan is not on, the status should be shown as `off`). Note that the 20 `'='` characters are also part of the output string. And make sure to have an end of line at the end of string."
      ],
      "metadata": {
        "id": "gu-rYJ9VwmMD"
      }
    },
    {
      "cell_type": "markdown",
      "source": [
        "**Complete your class implementation in the next cell**"
      ],
      "metadata": {
        "id": "w79gyqe5rz6x"
      }
    },
    {
      "cell_type": "code",
      "source": [
        "class Fan:\n",
        "    SLOW = 1\n",
        "    MEDIUM = 2\n",
        "    FAST = 3\n",
        "    def __init__(self):\n",
        "        self.speed = 1\n",
        "        self.on = False\n",
        "        self.radius = 5\n",
        "        self.color = \"blue\"\n",
        "    def __str__(self):\n",
        "      if self.on == True:\n",
        "        return \"=\"*20 + \"\\nSpeed: \" + str(self.speed) + \"\\nColor: \" + self.color + \"\\nRadius: \" + str(self.radius) + \"\\nFan: On\\n\"\n",
        "      else:\n",
        "        return \"=\"*20 + \"\\nSpeed: \" + str(self.speed) + \"\\nColor: \" + self.color + \"\\nRadius: \" + str(self.radius) + \"\\nFan: off\\n\" \n",
        "    def setSpeed(self,speed):\n",
        "        self.speed = speed\n",
        "    \n",
        "    def setColor(self, colors):\n",
        "        self.color = colors\n",
        "    \n",
        "    def setOn(self, status):\n",
        "          self.on = status\n",
        "       \n",
        "    def setRadius(self, rad):\n",
        "        self.radius = rad\n",
        "    \n",
        "    def getSpeed(self):\n",
        "        return self.speed\n",
        "    \n",
        "    def getColor(self):\n",
        "        return self.color\n",
        "    \n",
        "    def isOn(self):\n",
        "        return self.on\n",
        "    \n",
        "    def getRadius(self):\n",
        "        return self.radius\n",
        "    \n",
        "\n",
        "\n",
        "    ## PUT YOUR CODE HERE"
      ],
      "metadata": {
        "id": "jc8m5O_BsYNk"
      },
      "execution_count": 58,
      "outputs": []
    },
    {
      "cell_type": "markdown",
      "source": [
        "**Use the next cell to test your class**\n",
        "\n",
        "The expected output is:\n",
        "```\n",
        "====================\n",
        "Speed: 3\n",
        "Color: yellow\n",
        "Radius: 10\n",
        "Fan: on\n",
        "\n",
        "====================\n",
        "Speed: 2\n",
        "Color: blue\n",
        "Radius: 5\n",
        "Fan: off\n",
        "```"
      ],
      "metadata": {
        "id": "n5_9G7RGr96i"
      }
    },
    {
      "cell_type": "code",
      "source": [
        "## DO NOT EDIT THIS CELL, IT SHOULD RUN WITH YOUR CLASS\n",
        "fan1 = Fan()\n",
        "fan1.setSpeed(Fan.FAST)\n",
        "fan1.setRadius(10)\n",
        "fan1.setColor(\"yellow\")\n",
        "fan1.setOn(True)\n",
        "print(fan1)\n",
        "\n",
        "fan2 = Fan()\n",
        "fan2.setSpeed(Fan.MEDIUM)\n",
        "print(fan2)"
      ],
      "metadata": {
        "colab": {
          "base_uri": "https://localhost:8080/"
        },
        "id": "ljaYqF5V9QbM",
        "outputId": "e34ec403-cc3b-44a4-b5bc-367c4e25c3a5"
      },
      "execution_count": 59,
      "outputs": [
        {
          "output_type": "stream",
          "name": "stdout",
          "text": [
            "====================\n",
            "Speed: 3\n",
            "Color: yellow\n",
            "Radius: 10\n",
            "Fan: On\n",
            "\n",
            "====================\n",
            "Speed: 2\n",
            "Color: blue\n",
            "Radius: 5\n",
            "Fan: off\n",
            "\n"
          ]
        }
      ]
    },
    {
      "cell_type": "markdown",
      "source": [
        "## Task 2 (5 points) - A \"Smarter\" Fan\n",
        "\n",
        "You are asked to create a `SmartFan` class deriving from the `Fan` class in Task 1 with the following addition members:\n",
        "\n",
        "1. A method `toggle()` that switches the fan between `on` and `off` state. If a fan is `on` this will turn it off. If a fan is `off`, this will turn it on.\n",
        "\n",
        "2. A method `setState(state)` that would set the current fan properties to be the same as the fan with the status `__str__()` print out. If `state` is not in a parseable (i.e non-confomring to the `__str__()` output), please print out the message `Invalid input state.` without changing the fan properties.\n",
        "\n",
        "Please complete your code in the next cell, and use the cell following that for testing purposes.\n"
      ],
      "metadata": {
        "id": "K8ZIpU4BxT1h"
      }
    },
    {
      "cell_type": "code",
      "source": [
        "class SmartFan(Fan):\n",
        "  def __init__(self):\n",
        "    super().__init__()\n",
        "\n",
        "  def toggle(self):\n",
        "    if (self.isOn() == False):\n",
        "      self.setOn(True)\n",
        "    else:\n",
        "      self.setOn(False)\n",
        "  \n",
        "  def setState(self, state):\n",
        "    Fan_list = state.strip().split(\"\\n\")\n",
        "    if len(Fan_list) != 5:\n",
        "        print(\"Invalid input state\")\n",
        "        return\n",
        "    try:\n",
        "      SmartSpeed = int(Fan_list[1].split(\": \")[-1])\n",
        "      Smartcolor = Fan_list[2].split(\": \")[-1]\n",
        "      Smartradius = int(Fan_list[3].split(\": \")[-1])\n",
        "      if Fan_list[4].split(\": \")[-1] == \"True\":\n",
        "        Smarton = True \n",
        "      else: \n",
        "        Smarton = False\n",
        "      self.setSpeed(SmartSpeed)\n",
        "      self.setRadius(Smartradius)\n",
        "      self.setColor(Smartcolor)\n",
        "      self.setOn(Smarton)\n",
        "    except:\n",
        "      print(\"Invalid input state\")\n",
        "    \n",
        "    def __str__():\n",
        "      return super().__str__()\n",
        "\n",
        "\n",
        "\n",
        "\n",
        "\n",
        "    ## PUT YOUR CODE HERE"
      ],
      "metadata": {
        "id": "2Hp80r_Yq3D0"
      },
      "execution_count": 67,
      "outputs": []
    },
    {
      "cell_type": "code",
      "source": [
        "## DO NOT EDIT THIS CELL, IT SHOULD RUN WITH YOUR CLASS\n",
        "fan1 = SmartFan()\n",
        "fan1.setSpeed(Fan.FAST)\n",
        "fan1.setRadius(10)\n",
        "fan1.setColor(\"yellow\")\n",
        "fan1.setOn(True)\n",
        "\n",
        "fan2 = Fan()\n",
        "fan2.setSpeed(Fan.MEDIUM)\n",
        "fan2.setRadius(5)\n",
        "fan2.setColor(\"blue\")\n",
        "fan2.setOn(False)\n",
        "\n",
        "print(fan1)\n",
        "fan1.toggle()\n",
        "print(fan1.isOn())\n",
        "fan1.toggle()\n",
        "print(fan1.isOn())\n",
        "print()\n",
        "\n",
        "fan1.setState(str(fan2))\n",
        "print(fan1)\n",
        "print()\n",
        "\n",
        "fan1.setState(\n",
        "    '====================\\n'\n",
        "    'Speed: 3\\n'\n",
        "    'Color: yellow\\n'\n",
        "    'Radius: s10\\n'\n",
        "    'Fan: True\\n')\n",
        "print(fan1)"
      ],
      "metadata": {
        "colab": {
          "base_uri": "https://localhost:8080/"
        },
        "id": "p_TPDZyQ8T4E",
        "outputId": "f24e9cd0-26b6-4236-8954-3efa2721fd06"
      },
      "execution_count": 70,
      "outputs": [
        {
          "output_type": "stream",
          "name": "stdout",
          "text": [
            "====================\n",
            "Speed: 3\n",
            "Color: yellow\n",
            "Radius: 10\n",
            "Fan: On\n",
            "\n",
            "False\n",
            "True\n",
            "\n",
            "====================\n",
            "Speed: 2\n",
            "Color: blue\n",
            "Radius: 5\n",
            "Fan: off\n",
            "\n",
            "\n",
            "Invalid input state\n",
            "====================\n",
            "Speed: 2\n",
            "Color: blue\n",
            "Radius: 5\n",
            "Fan: off\n",
            "\n"
          ]
        }
      ]
    }
  ]
}